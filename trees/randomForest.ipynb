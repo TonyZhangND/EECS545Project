{
 "cells": [
  {
   "cell_type": "code",
   "execution_count": 1,
   "metadata": {},
   "outputs": [
    {
     "name": "stderr",
     "output_type": "stream",
     "text": [
      "D:\\Anaconda\\lib\\site-packages\\sklearn\\ensemble\\weight_boosting.py:29: DeprecationWarning: numpy.core.umath_tests is an internal NumPy module and should not be imported. It will be removed in a future NumPy release.\n",
      "  from numpy.core.umath_tests import inner1d\n"
     ]
    }
   ],
   "source": [
    "from sklearn.ensemble import RandomForestRegressor\n",
    "from sklearn.datasets import make_regression\n",
    "import numpy as np\n",
    "import pandas as pd\n",
    "import random\n",
    "from sklearn.model_selection import train_test_split\n",
    "import sklearn\n",
    "import matplotlib.pyplot as plt "
   ]
  },
  {
   "cell_type": "code",
   "execution_count": 2,
   "metadata": {},
   "outputs": [],
   "source": [
    "X_array_1 = pd.read_csv('ArOpt15.csv', header=None).values\n",
    "Y_array_1 = pd.read_csv('ArOpt15Label.csv', header=None).values.T\n",
    "# Y_array_1 = Y_array_1/Y_array_1.max()\n",
    "\n",
    "X_array_2 = pd.read_csv('Ar15.csv', header=None).values\n",
    "Y_array_2 = pd.read_csv('Ar15Label.csv', header=None).values.T\n",
    "# Y_array_2 = Y_array_2/Y_array_2.max()\n",
    "\n",
    "X_array_3 = pd.read_csv('Ar25.csv', header=None).values\n",
    "Y_array_3 = pd.read_csv('Ar25Label.csv', header=None).values.T\n",
    "# Y_array_3 = Y_array_3/Y_array_3.max()\n",
    "\n",
    "X_array_4 = pd.read_csv('ArOpt.csv', header=None).values\n",
    "Y_array_4 = pd.read_csv('ArOptLabel.csv', header=None).values.T\n",
    "# Y_array_4 = Y_array_4/Y_array_4.max()\n",
    "\n",
    "\n",
    "X_array = np.concatenate((X_array_1, X_array_2, X_array_3, X_array_4),axis=0)\n",
    "Y_array = np.concatenate((Y_array_1, Y_array_2, Y_array_3, Y_array_4),axis=0)\n",
    "Y_array = Y_array/Y_array.max()\n",
    "\n",
    "# X_array=np.delete(X_array,0,1)\n",
    "\n",
    "\n",
    "# print(X_array.shape,Y_array.shape)\n",
    "random.seed(2019)\n",
    "X_train, X_test, y_train, y_test = train_test_split(X_array, Y_array, test_size=0.2, random_state=1)\n"
   ]
  },
  {
   "cell_type": "code",
   "execution_count": 3,
   "metadata": {},
   "outputs": [],
   "source": [
    "def sphere(X_train, X_test):\n",
    "\n",
    "    \"\"\"\n",
    "\n",
    "    :param X_train: Sample-feature matrix to sphere\n",
    "\n",
    "    :param X_test: Sample-feature matrix to sphere according to mean and stdev of X_train\n",
    "\n",
    "    :return: Tuple containing (X_train_sphered, X_test_sphered)\n",
    "\n",
    "    \"\"\"\n",
    "\n",
    "    X_train, X_test = X_train.T, X_test.T\n",
    "\n",
    "    a, b = X_train.shape\n",
    "\n",
    "    stdevs = [np.std(row) for row in X_train]  # standard deviation of each row in X\n",
    "\n",
    "    diag = np.diag([1 / s for s in stdevs])\n",
    "\n",
    "    X_train_sphered = diag.dot(X_train).dot(np.eye(b) - 1 / b * np.ones((b, b)))\n",
    "\n",
    "    sample_means = np.array([np.mean(row) for row in X_train])\n",
    "\n",
    "    sample_stds = np.array([np.std(row) for row in X_train])\n",
    "\n",
    "\n",
    "\n",
    "    # Now update X_test according to sample_means, sample_stds\n",
    "\n",
    "    a, b = X_test.shape\n",
    "\n",
    "    # print(f\"X_test shape {X_test.shape}\")\n",
    "\n",
    "    # print(f\"means.shape {sample_means.shape}, stds.shape {sample_stds.shape}\")\n",
    "\n",
    "    assert sample_stds.shape[0] == a and sample_means.shape[0] == a\n",
    "\n",
    "    X_test_sphered = X_test - np.column_stack([sample_means for i in range(b)])\n",
    "\n",
    "    X_test_sphered = X_test_sphered / np.column_stack([sample_stds for i in range(b)])\n",
    "\n",
    "    return X_train_sphered.T, X_test_sphered.T"
   ]
  },
  {
   "cell_type": "code",
   "execution_count": 4,
   "metadata": {},
   "outputs": [],
   "source": [
    "X_train, X_test = sphere(X_train, X_test)"
   ]
  },
  {
   "cell_type": "code",
   "execution_count": 19,
   "metadata": {},
   "outputs": [
    {
     "data": {
      "text/plain": [
       "array([[-0.49688528,  1.77806401, -0.80658616, ...,  0.37919087,\n",
       "         2.4176479 ,  1.02707903],\n",
       "       [-0.42110201, -0.25420204,  2.01432325, ..., -0.92775907,\n",
       "        -0.09551884, -1.68127285],\n",
       "       [-0.48332707, -0.04313029,  1.22411079, ..., -0.99524121,\n",
       "        -0.16823253, -0.90417358],\n",
       "       ...,\n",
       "       [-0.51786483,  1.39701412, -0.72160104, ...,  0.10926232,\n",
       "         1.37920559,  1.55587439],\n",
       "       [-0.46056354, -0.34946451,  1.04370379, ..., -1.09577582,\n",
       "         0.14988984, -0.74783408],\n",
       "       [-0.24391758,  0.20529929, -1.37464455, ...,  2.26455911,\n",
       "        -0.6545053 ,  1.34895446]])"
      ]
     },
     "execution_count": 19,
     "metadata": {},
     "output_type": "execute_result"
    }
   ],
   "source": [
    "X_train"
   ]
  },
  {
   "cell_type": "code",
   "execution_count": 16,
   "metadata": {},
   "outputs": [
    {
     "data": {
      "image/png": "[encoded data removed]",
      "text/plain": [
       "<matplotlib.figure.Figure at 0x2ac43cb4f60>"
      ]
     },
     "metadata": {
      "needs_background": "light"
     },
     "output_type": "display_data"
    }
   ],
   "source": [
    "y=np.ravel(y_train)\n",
    "numTrees=1000\n",
    "mseTest=np.zeros(numTrees)\n",
    "mseTrain=np.zeros(numTrees)\n",
    "\n",
    "for i in range(0, numTrees):\n",
    "    regr = RandomForestRegressor(random_state=3, n_estimators=i+1, max_features='sqrt')\n",
    "#     regr = RandomForestRegressor(max_depth=6, random_state=1, n_estimators=i+1)\n",
    "    regr.fit(X_train, y)  \n",
    "    yPredTest = regr.predict(X_test)\n",
    "    mseTest[i] = sklearn.metrics.mean_squared_error(y_test,yPredTest)\n",
    "\n",
    "    yPredTrain = regr.predict(X_train)\n",
    "    mseTrain[i] = sklearn.metrics.mean_squared_error(y_train,yPredTrain)\n",
    "\n",
    "plt.plot(range(0, numTrees), mseTrain, color='b', label='Train')    \n",
    "plt.plot(range(0, numTrees), mseTest, color='r', label='Test')    \n",
    "plt.xlabel('Number of trees', fontsize=20)\n",
    "plt.ylabel('MSE', fontsize=20)\n",
    "plt.legend(prop={'size': 20})\n",
    "\n",
    "pathRoot = 'C:/Users/linji/OneDrive - Umich/EECS545Fall2019/Project/randomForest/'\n",
    "plt.savefig(pathRoot+'rfMSE')"
   ]
  },
  {
   "cell_type": "code",
   "execution_count": 8,
   "metadata": {},
   "outputs": [
    {
     "name": "stdout",
     "output_type": "stream",
     "text": [
      "[0.21507059 0.09287705 0.03120901 0.06667219 0.02143817 0.01950296\n",
      " 0.0957356  0.05587744 0.05280346 0.01690774 0.10189517 0.0666112\n",
      " 0.09907249 0.03863258 0.02569435]\n",
      "[ 0 10 12  6  1  3 11  7  8 13  2 14  4  5  9]\n"
     ]
    }
   ],
   "source": [
    "print(regr.feature_importances_)\n",
    "# print(np.argsort(regr.feature_importances_))\n",
    "order = np.argsort(regr.feature_importances_)\n",
    "order = np.flip(order)\n",
    "print(order)"
   ]
  },
  {
   "cell_type": "code",
   "execution_count": 9,
   "metadata": {},
   "outputs": [
    {
     "data": {
      "text/plain": [
       "0.0005251370599441172"
      ]
     },
     "execution_count": 9,
     "metadata": {},
     "output_type": "execute_result"
    }
   ],
   "source": [
    "mseTrain[-1]"
   ]
  },
  {
   "cell_type": "code",
   "execution_count": 10,
   "metadata": {},
   "outputs": [
    {
     "data": {
      "text/plain": [
       "0.005670246189535292"
      ]
     },
     "execution_count": 10,
     "metadata": {},
     "output_type": "execute_result"
    }
   ],
   "source": [
    "mseTest[-1]"
   ]
  },
  {
   "cell_type": "code",
   "execution_count": 9,
   "metadata": {},
   "outputs": [
    {
     "data": {
      "text/plain": [
       "(208, 14)"
      ]
     },
     "execution_count": 9,
     "metadata": {},
     "output_type": "execute_result"
    }
   ],
   "source": [
    "aaa=np.delete(X_array,0,1)\n",
    "aaa.shape"
   ]
  },
  {
   "cell_type": "code",
   "execution_count": 10,
   "metadata": {},
   "outputs": [
    {
     "data": {
      "text/plain": [
       "array([[-0.155, -0.055,  0.207, ..., -0.219,  0.019,  0.232],\n",
       "       [-0.243,  0.193,  0.175, ...,  0.054,  0.172, -0.097],\n",
       "       [ 0.007, -0.071,  0.072, ..., -0.057, -0.067,  0.026],\n",
       "       ...,\n",
       "       [-0.738,  0.592, -0.521, ..., -0.345, -0.101, -0.889],\n",
       "       [-0.769,  0.612, -0.531, ..., -0.32 , -0.068, -0.889],\n",
       "       [-0.753,  0.618, -0.515, ..., -0.309, -0.084, -0.874]])"
      ]
     },
     "execution_count": 10,
     "metadata": {},
     "output_type": "execute_result"
    }
   ],
   "source": [
    "aaa"
   ]
  },
  {
   "cell_type": "code",
   "execution_count": 13,
   "metadata": {},
   "outputs": [
    {
     "data": {
      "text/plain": [
       "RandomForestRegressor(bootstrap=True, criterion='mse', max_depth=4,\n",
       "           max_features='auto', max_leaf_nodes=None,\n",
       "           min_impurity_decrease=0.0, min_impurity_split=None,\n",
       "           min_samples_leaf=1, min_samples_split=2,\n",
       "           min_weight_fraction_leaf=0.0, n_estimators=200, n_jobs=1,\n",
       "           oob_score=False, random_state=1, verbose=0, warm_start=False)"
      ]
     },
     "execution_count": 13,
     "metadata": {},
     "output_type": "execute_result"
    }
   ],
   "source": [
    "y=np.ravel(y_train)\n",
    "regr = RandomForestRegressor(max_depth=4, random_state=1,\n",
    "                             n_estimators=200)\n",
    "regr.fit(X_train, y)  "
   ]
  },
  {
   "cell_type": "code",
   "execution_count": 14,
   "metadata": {},
   "outputs": [
    {
     "name": "stdout",
     "output_type": "stream",
     "text": [
      "[0.19578678 0.01091278 0.02105184 0.00814097 0.01287188 0.03172167\n",
      " 0.0145678  0.01648086 0.00884103 0.24270152 0.0123846  0.37818869\n",
      " 0.0250308  0.02131878]\n"
     ]
    }
   ],
   "source": [
    "print(regr.feature_importances_)\n"
   ]
  },
  {
   "cell_type": "code",
   "execution_count": 5,
   "metadata": {},
   "outputs": [
    {
     "name": "stdout",
     "output_type": "stream",
     "text": [
      "0.008679484245170418\n"
     ]
    }
   ],
   "source": [
    "yPred = regr.predict(X_test)\n",
    "mse = sklearn.metrics.mean_squared_error(y_test,yPred)\n",
    "print (mse)\n"
   ]
  },
  {
   "cell_type": "code",
   "execution_count": 6,
   "metadata": {},
   "outputs": [
    {
     "data": {
      "text/plain": [
       "[<matplotlib.lines.Line2D at 0x1dbebb26c18>]"
      ]
     },
     "execution_count": 6,
     "metadata": {},
     "output_type": "execute_result"
    },
    {
     "data": {
      "image/png": "[encoded data removed]",
      "text/plain": [
       "<matplotlib.figure.Figure at 0x1dbebb26588>"
      ]
     },
     "metadata": {
      "needs_background": "light"
     },
     "output_type": "display_data"
    }
   ],
   "source": [
    "xx = np.linspace(0,1,100)\n",
    "yy = np.linspace(0,1,100)\n",
    "plt.clf()\n",
    "plt.plot(xx,yy)\n",
    "# plt.plot(y.numpy(), prediction.detach().numpy(), '.')\n",
    "plt.plot(y_test, yPred, 'o')"
   ]
  },
  {
   "cell_type": "code",
   "execution_count": null,
   "metadata": {},
   "outputs": [],
   "source": []
  }
 ],
 "metadata": {
  "kernelspec": {
   "display_name": "Python 3",
   "language": "python",
   "name": "python3"
  },
  "language_info": {
   "codemirror_mode": {
    "name": "ipython",
    "version": 3
   },
   "file_extension": ".py",
   "mimetype": "text/x-python",
   "name": "python",
   "nbconvert_exporter": "python",
   "pygments_lexer": "ipython3",
   "version": "3.6.4"
  }
 },
 "nbformat": 4,
 "nbformat_minor": 2
}
