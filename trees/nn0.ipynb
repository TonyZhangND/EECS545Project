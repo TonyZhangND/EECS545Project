{
 "cells": [
  {
   "cell_type": "code",
   "execution_count": 1,
   "metadata": {},
   "outputs": [],
   "source": [
    "import torch\n",
    "import torch.nn as nn\n",
    "from torch.autograd import Variable\n",
    "import torch.nn.functional as F\n",
    "\n",
    "import numpy as np\n",
    "import pandas as pd\n",
    "import random\n",
    "from sklearn.model_selection import train_test_split\n",
    "import sklearn\n",
    "torch.manual_seed(2019)\n",
    "import matplotlib.pyplot as plt "
   ]
  },
  {
   "cell_type": "code",
   "execution_count": 2,
   "metadata": {},
   "outputs": [
    {
     "name": "stdout",
     "output_type": "stream",
     "text": [
      "(208, 14) (208, 1)\n"
     ]
    }
   ],
   "source": [
    "X_array_1 = pd.read_csv('ArOpt15.csv', header=None).values\n",
    "Y_array_1 = pd.read_csv('ArOpt15Label.csv', header=None).values.T\n",
    "# Y_array_1 = Y_array_1/Y_array_1.max()\n",
    "\n",
    "X_array_2 = pd.read_csv('Ar15.csv', header=None).values\n",
    "Y_array_2 = pd.read_csv('Ar15Label.csv', header=None).values.T\n",
    "# Y_array_2 = Y_array_2/Y_array_2.max()\n",
    "\n",
    "X_array_3 = pd.read_csv('Ar25.csv', header=None).values\n",
    "Y_array_3 = pd.read_csv('Ar25Label.csv', header=None).values.T\n",
    "# Y_array_3 = Y_array_3/Y_array_3.max()\n",
    "\n",
    "X_array_4 = pd.read_csv('ArOpt.csv', header=None).values\n",
    "Y_array_4 = pd.read_csv('ArOptLabel.csv', header=None).values.T\n",
    "# Y_array_4 = Y_array_4/Y_array_4.max()\n",
    "\n",
    "\n",
    "X_array = np.concatenate((X_array_1, X_array_2, X_array_3, X_array_4),axis=0)\n",
    "Y_array = np.concatenate((Y_array_1, Y_array_2, Y_array_3, Y_array_4),axis=0)\n",
    "Y_array = Y_array/Y_array.max()\n",
    "X_array=np.delete(X_array,0,1)\n",
    "\n",
    "print(X_array.shape,Y_array.shape)\n",
    "random.seed(2019)\n",
    "X_train, X_test, y_train, y_test = train_test_split(X_array, Y_array, test_size=0.2, random_state=1)\n",
    "\n",
    "x = torch.from_numpy(X_train).float()\n",
    "y = torch.from_numpy(y_train).float()\n",
    "xPredicted = torch.from_numpy(X_test).float()\n",
    "yTestReal = torch.from_numpy(y_test).float()\n",
    "x, y = Variable(x), Variable(y)"
   ]
  },
  {
   "cell_type": "code",
   "execution_count": 4,
   "metadata": {},
   "outputs": [
    {
     "data": {
      "text/plain": [
       "(166, 1)"
      ]
     },
     "execution_count": 4,
     "metadata": {},
     "output_type": "execute_result"
    }
   ],
   "source": [
    "y_train.shape"
   ]
  },
  {
   "cell_type": "code",
   "execution_count": 6,
   "metadata": {},
   "outputs": [],
   "source": [
    "class Net(torch.nn.Module):\n",
    "    def __init__(self, n_feature, n_hidden, n_output):\n",
    "        super(Net, self).__init__()\n",
    "        self.hidden = torch.nn.Linear(n_feature, n_hidden)   # hidden layer\n",
    "        self.predict = torch.nn.Linear(n_hidden, n_output)   # output layer\n",
    "\n",
    "    def forward(self, x):\n",
    "        x = F.relu(self.hidden(x))      # activation function for hidden layer\n",
    "       #  x = F.leaky_relu(self.hidden(x))\n",
    "       # x = F.leaky_relu(self.hidden(x))\n",
    "        x = self.predict(x)             # linear output\n",
    "        return x"
   ]
  },
  {
   "cell_type": "code",
   "execution_count": 8,
   "metadata": {},
   "outputs": [
    {
     "name": "stdout",
     "output_type": "stream",
     "text": [
      "Sequential(\n",
      "  (0): Linear(in_features=15, out_features=8, bias=True)\n",
      "  (1): LeakyReLU(negative_slope=0.01)\n",
      "  (2): Linear(in_features=8, out_features=5, bias=True)\n",
      "  (3): LeakyReLU(negative_slope=0.01)\n",
      "  (4): Linear(in_features=5, out_features=1, bias=True)\n",
      ")\n"
     ]
    }
   ],
   "source": [
    "#net = Net(n_feature=15, n_hidden=15, n_output=1) \n",
    "input_size = 15\n",
    "hidden_sizes = [8, 5]\n",
    "output_size = 1\n",
    "# Build a feed-forward network\n",
    "net = nn.Sequential(nn.Linear(input_size, hidden_sizes[0]),\n",
    "                      nn.LeakyReLU(),\n",
    "                      nn.Linear(hidden_sizes[0], hidden_sizes[1]),\n",
    "                      nn.LeakyReLU(),\n",
    "                      nn.Linear(hidden_sizes[1], output_size))\n",
    "print(net)\n",
    "optimizer = torch.optim.SGD(net.parameters(), lr=0.005)\n",
    "#optimizer = torch.optim.Adam(net.parameters(), lr=0.01)\n",
    "loss_func = torch.nn.MSELoss()  # this is for regression mean squared loss\n",
    "#loss_func = torch.nn.L1Loss() "
   ]
  },
  {
   "cell_type": "code",
   "execution_count": 26,
   "metadata": {},
   "outputs": [
    {
     "data": {
      "image/png": "[encoded data removed]",
      "text/plain": [
       "<matplotlib.figure.Figure at 0x19c5665e550>"
      ]
     },
     "metadata": {
      "needs_background": "light"
     },
     "output_type": "display_data"
    }
   ],
   "source": [
    "total_epoch = 20000\n",
    "lost_hist_train = np.zeros([total_epoch])\n",
    "lost_hist_eval = np.zeros([total_epoch])\n",
    "net.train()\n",
    "for t in range(total_epoch):\n",
    "\n",
    "    prediction = net(x.float())     # input x and predict based on x\n",
    "\n",
    "    loss = loss_func(prediction, y)     # must be (1. nn output, 2. target)\n",
    "\n",
    "    optimizer.zero_grad()   # clear gradients for next train\n",
    "    loss.backward()         # backpropagation, compute gradients\n",
    "    optimizer.step()        # apply gradients\n",
    "    # print(loss.data.numpy())\n",
    "    lost_hist_train[t] = loss.data.numpy()\n",
    "\n",
    "    y_predict = net(xPredicted.float())  # input x and predict based on x\n",
    "\n",
    "    loss_eval = loss_func(y_predict, yTestReal)  # must be (1. nn output, 2. target)\n",
    "\n",
    "    lost_hist_eval[t] = loss_eval.data.numpy()\n",
    "\n",
    "\n",
    "t = np.linspace(0,total_epoch,total_epoch)\n",
    "\n",
    "plt.semilogy()\n",
    "plt.plot(t,lost_hist_train)\n",
    "plt.plot(t,lost_hist_eval)\n",
    "# plt.show()\n",
    "plt.savefig('process.svg')\n",
    "\n",
    "net.eval()\n",
    "prediction = net(x.float())"
   ]
  },
  {
   "cell_type": "code",
   "execution_count": 27,
   "metadata": {},
   "outputs": [],
   "source": [
    "net.eval()\n",
    "y_predict= net(xPredicted.float()) "
   ]
  },
  {
   "cell_type": "code",
   "execution_count": 28,
   "metadata": {},
   "outputs": [
    {
     "name": "stdout",
     "output_type": "stream",
     "text": [
      "tensor([[0.5112],\n",
      "        [0.2673],\n",
      "        [0.2034],\n",
      "        [0.6745],\n",
      "        [0.0371],\n",
      "        [0.7419],\n",
      "        [0.1836],\n",
      "        [0.1675],\n",
      "        [0.6742],\n",
      "        [0.0445],\n",
      "        [0.0237],\n",
      "        [0.7837],\n",
      "        [0.0315],\n",
      "        [0.6272],\n",
      "        [0.0334],\n",
      "        [0.3774],\n",
      "        [0.4468],\n",
      "        [0.5891],\n",
      "        [0.7360],\n",
      "        [0.7281],\n",
      "        [0.5763],\n",
      "        [0.0426],\n",
      "        [0.4832],\n",
      "        [0.2338],\n",
      "        [0.1091],\n",
      "        [0.1783],\n",
      "        [0.8761],\n",
      "        [0.8238],\n",
      "        [0.7449],\n",
      "        [0.3350],\n",
      "        [0.2174],\n",
      "        [0.4957],\n",
      "        [0.7152],\n",
      "        [0.3542],\n",
      "        [0.0361],\n",
      "        [0.0503],\n",
      "        [0.7209],\n",
      "        [0.6277],\n",
      "        [0.0097],\n",
      "        [0.0866],\n",
      "        [0.6199],\n",
      "        [0.5760]], grad_fn=<AddmmBackward>)\n",
      "0.018302908\n"
     ]
    }
   ],
   "source": [
    "print(y_predict)\n",
    "#mse = np.sqrt(((yTestReal.detach().numpy() - y_predict.detach().numpy())**2).mean(axis=0))\n",
    "mse = sklearn.metrics.mean_squared_error(yTestReal.detach().numpy(),y_predict.detach().numpy())\n",
    "print(mse)"
   ]
  },
  {
   "cell_type": "code",
   "execution_count": 29,
   "metadata": {},
   "outputs": [
    {
     "data": {
      "text/plain": [
       "[<matplotlib.lines.Line2D at 0x19c56810240>]"
      ]
     },
     "execution_count": 29,
     "metadata": {},
     "output_type": "execute_result"
    },
    {
     "data": {
      "image/png": "[encoded data removed]",
      "text/plain": [
       "<matplotlib.figure.Figure at 0x19c567930f0>"
      ]
     },
     "metadata": {
      "needs_background": "light"
     },
     "output_type": "display_data"
    }
   ],
   "source": [
    "xx = np.linspace(0,1,100)\n",
    "yy = np.linspace(0,1,100)\n",
    "plt.clf()\n",
    "plt.plot(xx,yy)\n",
    "plt.plot(y.numpy(), prediction.detach().numpy(), '.')\n",
    "plt.plot(yTestReal.detach().numpy(),y_predict.detach().numpy(), 'o')\n",
    "# plt.savefig('results.svg')\n"
   ]
  },
  {
   "cell_type": "code",
   "execution_count": 43,
   "metadata": {},
   "outputs": [],
   "source": [
    "def computeMSE(Xarray, Y_array, feature):\n",
    "#     sphere the array\n",
    "    X_array = sklearn.preprocessing.scale(Xarray)\n",
    "    X_array[:,feature] = 0\n",
    "    X_train, X_test, y_train, y_test = train_test_split(X_array, Y_array, test_size=0.2, random_state=1)\n",
    "\n",
    "    x = torch.from_numpy(X_train).float()\n",
    "    y = torch.from_numpy(y_train).float()\n",
    "    xPredicted = torch.from_numpy(X_test).float()\n",
    "    yTestReal = torch.from_numpy(y_test).float()\n",
    "    x, y = Variable(x), Variable(y)\n",
    "    \n",
    "    total_epoch = 20000\n",
    "    lost_hist_train = np.zeros([total_epoch])\n",
    "    lost_hist_eval = np.zeros([total_epoch])\n",
    "    net.train()\n",
    "    for t in range(total_epoch):\n",
    "\n",
    "        prediction = net(x.float())     # input x and predict based on x\n",
    "\n",
    "        loss = loss_func(prediction, y)     # must be (1. nn output, 2. target)\n",
    "\n",
    "        optimizer.zero_grad()   # clear gradients for next train\n",
    "        loss.backward()         # backpropagation, compute gradients\n",
    "        optimizer.step()        # apply gradients\n",
    "\n",
    "        y_predict = net(xPredicted.float())  # input x and predict based on x\n",
    "\n",
    "\n",
    "        \n",
    "    mse = sklearn.metrics.mean_squared_error(yTestReal.detach().numpy(),y_predict.detach().numpy())\n",
    "    return mse"
   ]
  },
  {
   "cell_type": "code",
   "execution_count": 44,
   "metadata": {},
   "outputs": [],
   "source": [
    "X_array_1 = pd.read_csv('ArOpt15.csv', header=None).values\n",
    "Y_array_1 = pd.read_csv('ArOpt15Label.csv', header=None).values.T\n",
    "# Y_array_1 = Y_array_1/Y_array_1.max()\n",
    "\n",
    "X_array_2 = pd.read_csv('Ar15.csv', header=None).values\n",
    "Y_array_2 = pd.read_csv('Ar15Label.csv', header=None).values.T\n",
    "# Y_array_2 = Y_array_2/Y_array_2.max()\n",
    "\n",
    "X_array_3 = pd.read_csv('Ar25.csv', header=None).values\n",
    "Y_array_3 = pd.read_csv('Ar25Label.csv', header=None).values.T\n",
    "# Y_array_3 = Y_array_3/Y_array_3.max()\n",
    "\n",
    "X_array_4 = pd.read_csv('ArOpt.csv', header=None).values\n",
    "Y_array_4 = pd.read_csv('ArOptLabel.csv', header=None).values.T\n",
    "# Y_array_4 = Y_array_4/Y_array_4.max()\n",
    "\n",
    "\n",
    "X_array = np.concatenate((X_array_1, X_array_2, X_array_3, X_array_4),axis=0)\n",
    "Y_array = np.concatenate((Y_array_1, Y_array_2, Y_array_3, Y_array_4),axis=0)\n",
    "Y_array = Y_array/Y_array.max()\n",
    "X_array=np.delete(X_array,0,1)\n"
   ]
  },
  {
   "cell_type": "code",
   "execution_count": 45,
   "metadata": {},
   "outputs": [
    {
     "data": {
      "text/plain": [
       "0.010440062"
      ]
     },
     "execution_count": 45,
     "metadata": {},
     "output_type": "execute_result"
    }
   ],
   "source": [
    "computeMSE(X_array,Y_array,0)"
   ]
  },
  {
   "cell_type": "code",
   "execution_count": 46,
   "metadata": {},
   "outputs": [],
   "source": [
    "mseArray = np.zeros(X_array.shape[1])\n",
    "for i in range(0, X_array.shape[1]):\n",
    "    mseArray[i] = computeMSE(X_array,Y_array,i)\n",
    "    "
   ]
  },
  {
   "cell_type": "code",
   "execution_count": 5,
   "metadata": {
    "scrolled": true
   },
   "outputs": [
    {
     "ename": "NameError",
     "evalue": "name 'mseArray' is not defined",
     "output_type": "error",
     "traceback": [
      "\u001b[1;31m---------------------------------------------------------------------------\u001b[0m",
      "\u001b[1;31mNameError\u001b[0m                                 Traceback (most recent call last)",
      "\u001b[1;32m<ipython-input-5-1a816889390c>\u001b[0m in \u001b[0;36m<module>\u001b[1;34m()\u001b[0m\n\u001b[1;32m----> 1\u001b[1;33m \u001b[0mprint\u001b[0m\u001b[1;33m(\u001b[0m\u001b[0mmseArray\u001b[0m\u001b[1;33m)\u001b[0m\u001b[1;33m\u001b[0m\u001b[0m\n\u001b[0m\u001b[0;32m      2\u001b[0m \u001b[0mprint\u001b[0m\u001b[1;33m(\u001b[0m\u001b[0mnp\u001b[0m\u001b[1;33m.\u001b[0m\u001b[0margsort\u001b[0m\u001b[1;33m(\u001b[0m\u001b[0mregr\u001b[0m\u001b[1;33m.\u001b[0m\u001b[0mfeature_importances_\u001b[0m\u001b[1;33m)\u001b[0m\u001b[1;33m)\u001b[0m\u001b[1;33m\u001b[0m\u001b[0m\n",
      "\u001b[1;31mNameError\u001b[0m: name 'mseArray' is not defined"
     ]
    }
   ],
   "source": [
    "print(mseArray)\n",
    "print(np.argsort(regr.feature_importances_))"
   ]
  },
  {
   "cell_type": "code",
   "execution_count": null,
   "metadata": {},
   "outputs": [],
   "source": []
  }
 ],
 "metadata": {
  "kernelspec": {
   "display_name": "Python 3",
   "language": "python",
   "name": "python3"
  },
  "language_info": {
   "codemirror_mode": {
    "name": "ipython",
    "version": 3
   },
   "file_extension": ".py",
   "mimetype": "text/x-python",
   "name": "python",
   "nbconvert_exporter": "python",
   "pygments_lexer": "ipython3",
   "version": "3.6.4"
  }
 },
 "nbformat": 4,
 "nbformat_minor": 2
}
