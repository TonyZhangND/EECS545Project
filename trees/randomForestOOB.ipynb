{
 "cells": [
  {
   "cell_type": "code",
   "execution_count": 1,
   "metadata": {},
   "outputs": [
    {
     "name": "stderr",
     "output_type": "stream",
     "text": [
      "D:\\Anaconda\\lib\\site-packages\\sklearn\\ensemble\\weight_boosting.py:29: DeprecationWarning: numpy.core.umath_tests is an internal NumPy module and should not be imported. It will be removed in a future NumPy release.\n",
      "  from numpy.core.umath_tests import inner1d\n"
     ]
    }
   ],
   "source": [
    "from sklearn.ensemble import RandomForestRegressor\n",
    "from sklearn.datasets import make_regression\n",
    "import numpy as np\n",
    "import pandas as pd\n",
    "import random\n",
    "from sklearn.model_selection import train_test_split\n",
    "import sklearn\n",
    "import matplotlib.pyplot as plt "
   ]
  },
  {
   "cell_type": "code",
   "execution_count": 4,
   "metadata": {},
   "outputs": [],
   "source": [
    "X_array_1 = pd.read_csv('ArOpt15.csv', header=None).values\n",
    "Y_array_1 = pd.read_csv('ArOpt15Label.csv', header=None).values.T\n",
    "# Y_array_1 = Y_array_1/Y_array_1.max()\n",
    "\n",
    "X_array_2 = pd.read_csv('Ar15.csv', header=None).values\n",
    "Y_array_2 = pd.read_csv('Ar15Label.csv', header=None).values.T\n",
    "# Y_array_2 = Y_array_2/Y_array_2.max()\n",
    "\n",
    "X_array_3 = pd.read_csv('Ar25.csv', header=None).values\n",
    "Y_array_3 = pd.read_csv('Ar25Label.csv', header=None).values.T\n",
    "# Y_array_3 = Y_array_3/Y_array_3.max()\n",
    "\n",
    "X_array_4 = pd.read_csv('ArOpt.csv', header=None).values\n",
    "Y_array_4 = pd.read_csv('ArOptLabel.csv', header=None).values.T\n",
    "# Y_array_4 = Y_array_4/Y_array_4.max()\n",
    "\n",
    "\n",
    "X_array = np.concatenate((X_array_1, X_array_2, X_array_3, X_array_4),axis=0)\n",
    "Y_array = np.concatenate((Y_array_1, Y_array_2, Y_array_3, Y_array_4),axis=0)\n",
    "Y_array = Y_array/Y_array.max()\n",
    "\n",
    "x = sklearn.preprocessing.scale(X_array)\n"
   ]
  },
  {
   "cell_type": "code",
   "execution_count": 50,
   "metadata": {},
   "outputs": [
    {
     "name": "stderr",
     "output_type": "stream",
     "text": [
      "D:\\Anaconda\\lib\\site-packages\\sklearn\\ensemble\\forest.py:724: UserWarning: Some inputs do not have OOB scores. This probably means too few trees were used to compute any reliable oob estimates.\n",
      "  warn(\"Some inputs do not have OOB scores. \"\n",
      "D:\\Anaconda\\lib\\site-packages\\sklearn\\ensemble\\forest.py:724: UserWarning: Some inputs do not have OOB scores. This probably means too few trees were used to compute any reliable oob estimates.\n",
      "  warn(\"Some inputs do not have OOB scores. \"\n",
      "D:\\Anaconda\\lib\\site-packages\\sklearn\\ensemble\\forest.py:724: UserWarning: Some inputs do not have OOB scores. This probably means too few trees were used to compute any reliable oob estimates.\n",
      "  warn(\"Some inputs do not have OOB scores. \"\n",
      "D:\\Anaconda\\lib\\site-packages\\sklearn\\ensemble\\forest.py:724: UserWarning: Some inputs do not have OOB scores. This probably means too few trees were used to compute any reliable oob estimates.\n",
      "  warn(\"Some inputs do not have OOB scores. \"\n",
      "D:\\Anaconda\\lib\\site-packages\\sklearn\\ensemble\\forest.py:724: UserWarning: Some inputs do not have OOB scores. This probably means too few trees were used to compute any reliable oob estimates.\n",
      "  warn(\"Some inputs do not have OOB scores. \"\n",
      "D:\\Anaconda\\lib\\site-packages\\sklearn\\ensemble\\forest.py:724: UserWarning: Some inputs do not have OOB scores. This probably means too few trees were used to compute any reliable oob estimates.\n",
      "  warn(\"Some inputs do not have OOB scores. \"\n",
      "D:\\Anaconda\\lib\\site-packages\\sklearn\\ensemble\\forest.py:724: UserWarning: Some inputs do not have OOB scores. This probably means too few trees were used to compute any reliable oob estimates.\n",
      "  warn(\"Some inputs do not have OOB scores. \"\n",
      "D:\\Anaconda\\lib\\site-packages\\sklearn\\ensemble\\forest.py:724: UserWarning: Some inputs do not have OOB scores. This probably means too few trees were used to compute any reliable oob estimates.\n",
      "  warn(\"Some inputs do not have OOB scores. \"\n"
     ]
    },
    {
     "data": {
      "image/png": "[encoded data removed]",
      "text/plain": [
       "<matplotlib.figure.Figure at 0x1e7a7735518>"
      ]
     },
     "metadata": {
      "needs_background": "light"
     },
     "output_type": "display_data"
    }
   ],
   "source": [
    "y=np.ravel(Y_array)\n",
    "numTrees=1000\n",
    "oobError=np.zeros(numTrees)\n",
    "\n",
    "for i in range(0, numTrees):\n",
    "    regr = RandomForestRegressor(random_state=3, n_estimators=i+1, max_features='sqrt', oob_score=True)\n",
    "#     regr = RandomForestRegressor(max_depth=6, random_state=1, n_estimators=i+1)\n",
    "    regr.fit(x, y)  \n",
    "#     yPred = regr.oob_prediction_\n",
    "    oobError[i] = 1-regr.oob_score_\n",
    "\n",
    "plt.plot(range(0, numTrees), oobError, color='r')    \n",
    "plt.xlabel('Number of trees', fontsize=20)\n",
    "plt.ylabel('OOB error', fontsize=20)\n",
    "\n",
    "pathRoot = 'C:/Users/linji/OneDrive - Umich/EECS545Fall2019/Project/randomForest/'\n",
    "plt.savefig(pathRoot+'rfOOBmse')"
   ]
  },
  {
   "cell_type": "code",
   "execution_count": 43,
   "metadata": {},
   "outputs": [
    {
     "name": "stdout",
     "output_type": "stream",
     "text": [
      "0.04219235498208396\n"
     ]
    }
   ],
   "source": [
    "print(oobError[-1])"
   ]
  },
  {
   "cell_type": "code",
   "execution_count": 51,
   "metadata": {},
   "outputs": [
    {
     "name": "stdout",
     "output_type": "stream",
     "text": [
      "[0.21927771 0.09960113 0.03604477 0.07889982 0.01782476 0.01587451\n",
      " 0.10266342 0.04620033 0.06729973 0.0159147  0.07564364 0.06454391\n",
      " 0.10554097 0.03138682 0.02328376]\n",
      "[ 0 12  6  1  3 10  8 11  7  2 13 14  4  9  5]\n"
     ]
    }
   ],
   "source": [
    "print(regr.feature_importances_)\n",
    "# print(np.argsort(regr.feature_importances_))\n",
    "order = np.argsort(regr.feature_importances_)\n",
    "order = np.flip(order)\n",
    "print(order)"
   ]
  },
  {
   "cell_type": "code",
   "execution_count": 18,
   "metadata": {},
   "outputs": [
    {
     "name": "stdout",
     "output_type": "stream",
     "text": [
      "[0.21507059 0.09287705 0.03120901 0.06667219 0.02143817 0.01950296\n",
      " 0.0957356  0.05587744 0.05280346 0.01690774 0.10189517 0.0666112\n",
      " 0.09907249 0.03863258 0.02569435]\n",
      "[ 0 10 12  6  1  3 11  7  8 13  2 14  4  5  9]\n"
     ]
    }
   ],
   "source": [
    "print(regr.feature_importances_)\n",
    "# print(np.argsort(regr.feature_importances_))\n",
    "order = np.argsort(regr.feature_importances_)\n",
    "order = np.flip(order)\n",
    "print(order)"
   ]
  },
  {
   "cell_type": "code",
   "execution_count": null,
   "metadata": {},
   "outputs": [],
   "source": []
  },
  {
   "cell_type": "code",
   "execution_count": null,
   "metadata": {},
   "outputs": [],
   "source": []
  },
  {
   "cell_type": "code",
   "execution_count": 9,
   "metadata": {},
   "outputs": [
    {
     "data": {
      "text/plain": [
       "(208, 14)"
      ]
     },
     "execution_count": 9,
     "metadata": {},
     "output_type": "execute_result"
    }
   ],
   "source": [
    "aaa=np.delete(X_array,0,1)\n",
    "aaa.shape"
   ]
  },
  {
   "cell_type": "code",
   "execution_count": 10,
   "metadata": {},
   "outputs": [
    {
     "data": {
      "text/plain": [
       "array([[-0.155, -0.055,  0.207, ..., -0.219,  0.019,  0.232],\n",
       "       [-0.243,  0.193,  0.175, ...,  0.054,  0.172, -0.097],\n",
       "       [ 0.007, -0.071,  0.072, ..., -0.057, -0.067,  0.026],\n",
       "       ...,\n",
       "       [-0.738,  0.592, -0.521, ..., -0.345, -0.101, -0.889],\n",
       "       [-0.769,  0.612, -0.531, ..., -0.32 , -0.068, -0.889],\n",
       "       [-0.753,  0.618, -0.515, ..., -0.309, -0.084, -0.874]])"
      ]
     },
     "execution_count": 10,
     "metadata": {},
     "output_type": "execute_result"
    }
   ],
   "source": [
    "aaa"
   ]
  },
  {
   "cell_type": "code",
   "execution_count": 13,
   "metadata": {},
   "outputs": [
    {
     "data": {
      "text/plain": [
       "RandomForestRegressor(bootstrap=True, criterion='mse', max_depth=4,\n",
       "           max_features='auto', max_leaf_nodes=None,\n",
       "           min_impurity_decrease=0.0, min_impurity_split=None,\n",
       "           min_samples_leaf=1, min_samples_split=2,\n",
       "           min_weight_fraction_leaf=0.0, n_estimators=200, n_jobs=1,\n",
       "           oob_score=False, random_state=1, verbose=0, warm_start=False)"
      ]
     },
     "execution_count": 13,
     "metadata": {},
     "output_type": "execute_result"
    }
   ],
   "source": [
    "y=np.ravel(y_train)\n",
    "regr = RandomForestRegressor(max_depth=4, random_state=1,\n",
    "                             n_estimators=200)\n",
    "regr.fit(X_train, y)  "
   ]
  },
  {
   "cell_type": "code",
   "execution_count": 14,
   "metadata": {},
   "outputs": [
    {
     "name": "stdout",
     "output_type": "stream",
     "text": [
      "[0.19578678 0.01091278 0.02105184 0.00814097 0.01287188 0.03172167\n",
      " 0.0145678  0.01648086 0.00884103 0.24270152 0.0123846  0.37818869\n",
      " 0.0250308  0.02131878]\n"
     ]
    }
   ],
   "source": [
    "print(regr.feature_importances_)\n"
   ]
  },
  {
   "cell_type": "code",
   "execution_count": 5,
   "metadata": {},
   "outputs": [
    {
     "name": "stdout",
     "output_type": "stream",
     "text": [
      "0.008679484245170418\n"
     ]
    }
   ],
   "source": [
    "yPred = regr.predict(X_test)\n",
    "mse = sklearn.metrics.mean_squared_error(y_test,yPred)\n",
    "print (mse)\n"
   ]
  },
  {
   "cell_type": "code",
   "execution_count": 6,
   "metadata": {},
   "outputs": [
    {
     "data": {
      "text/plain": [
       "[<matplotlib.lines.Line2D at 0x1dbebb26c18>]"
      ]
     },
     "execution_count": 6,
     "metadata": {},
     "output_type": "execute_result"
    },
    {
     "data": {
      "image/png": "[encoded data removed]",
      "text/plain": [
       "<matplotlib.figure.Figure at 0x1dbebb26588>"
      ]
     },
     "metadata": {
      "needs_background": "light"
     },
     "output_type": "display_data"
    }
   ],
   "source": [
    "xx = np.linspace(0,1,100)\n",
    "yy = np.linspace(0,1,100)\n",
    "plt.clf()\n",
    "plt.plot(xx,yy)\n",
    "# plt.plot(y.numpy(), prediction.detach().numpy(), '.')\n",
    "plt.plot(y_test, yPred, 'o')"
   ]
  },
  {
   "cell_type": "code",
   "execution_count": null,
   "metadata": {},
   "outputs": [],
   "source": []
  }
 ],
 "metadata": {
  "kernelspec": {
   "display_name": "Python 3",
   "language": "python",
   "name": "python3"
  },
  "language_info": {
   "codemirror_mode": {
    "name": "ipython",
    "version": 3
   },
   "file_extension": ".py",
   "mimetype": "text/x-python",
   "name": "python",
   "nbconvert_exporter": "python",
   "pygments_lexer": "ipython3",
   "version": "3.6.4"
  }
 },
 "nbformat": 4,
 "nbformat_minor": 2
}
